{
 "cells": [
  {
   "cell_type": "code",
   "execution_count": 10,
   "metadata": {},
   "outputs": [],
   "source": [
    "import os\n",
    "import csv\n",
    "csvpath = os.path.join('Resources', 'budget_data.csv')\n",
    "output_file = os.path.join('Analysis', 'budget_analysis.txt')"
   ]
  },
  {
   "cell_type": "code",
   "execution_count": 11,
   "metadata": {},
   "outputs": [
    {
     "name": "stdout",
     "output_type": "stream",
     "text": [
      "\n",
      "Financial Analysis\n",
      "----------------------------\n",
      "Total Months: 86\n",
      "Total: $38382578\n",
      "Average  Change: $-2315.12\n",
      "Greatest Increase in Profits: Feb-2012 ($1926159)\n",
      "Greatest Decrease in Profits: Sep-2013 ($-2196167)\n",
      "\n"
     ]
    }
   ],
   "source": [
    "total_months = 0\n",
    "total_profit = 0\n",
    "change = []\n",
    "change_month = []\n",
    "profit_increase = [\"\", 0]\n",
    "profit_decrease = [\"\", 100000000000000000000]\n",
    "\n",
    "with open(csvpath, newline='') as csvfile:\n",
    "    csvreader = csv.reader(csvfile, delimiter=',')\n",
    "    header = next(csvreader)\n",
    "    first_row = next(csvreader)\n",
    "\n",
    "    previous = int(first_row[1])\n",
    "    total_months = total_months + 1\n",
    "    total_profit = total_profit + int(first_row[1])\n",
    "    \n",
    "    for row in csvreader:\n",
    "        total_months = total_months + 1\n",
    "        total_profit = total_profit + int(row[1])\n",
    "        \n",
    "        net_change = int(row[1]) - previous\n",
    "        previous = int(row[1])\n",
    "        change = change + [net_change]\n",
    "        change_month = change_month + [row[0]]\n",
    "        \n",
    "        if net_change > profit_increase[1]:\n",
    "            profit_increase[1] = net_change\n",
    "            profit_increase[0] = row[0]\n",
    "            \n",
    "        if net_change < profit_decrease[1]:\n",
    "            profit_decrease[1] = net_change\n",
    "            profit_decrease[0] = row[0]\n",
    "            \n",
    "        average_change = sum(change) / len(change)\n",
    "        \n",
    "        \n",
    "output = (\n",
    "    f\"\\nFinancial Analysis\\n\"\n",
    "    f\"----------------------------\\n\"\n",
    "    f\"Total Months: {total_months}\\n\"\n",
    "    f\"Total: ${total_profit}\\n\"\n",
    "    f\"Average  Change: ${average_change:.2f}\\n\"\n",
    "    f\"Greatest Increase in Profits: {profit_increase[0]} (${profit_increase[1]})\\n\"\n",
    "    f\"Greatest Decrease in Profits: {profit_decrease[0]} (${profit_decrease[1]})\\n\"\n",
    ")\n",
    "\n",
    "print(output)\n",
    "\n",
    "with open(output_file, \"w\") as txt_file:\n",
    "    txt_file.write(output)"
   ]
  },
  {
   "cell_type": "code",
   "execution_count": null,
   "metadata": {},
   "outputs": [],
   "source": []
  },
  {
   "cell_type": "code",
   "execution_count": null,
   "metadata": {},
   "outputs": [],
   "source": []
  },
  {
   "cell_type": "code",
   "execution_count": null,
   "metadata": {},
   "outputs": [],
   "source": []
  }
 ],
 "metadata": {
  "kernelspec": {
   "display_name": "Conda [PythonData]",
   "language": "python",
   "name": "pythondata"
  },
  "language_info": {
   "codemirror_mode": {
    "name": "ipython",
    "version": 3
   },
   "file_extension": ".py",
   "mimetype": "text/x-python",
   "name": "python",
   "nbconvert_exporter": "python",
   "pygments_lexer": "ipython3",
   "version": "3.7.3"
  }
 },
 "nbformat": 4,
 "nbformat_minor": 2
}
